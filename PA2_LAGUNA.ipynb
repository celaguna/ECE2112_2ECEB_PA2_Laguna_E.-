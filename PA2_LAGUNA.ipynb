{
 "cells": [
  {
   "cell_type": "markdown",
   "id": "a271cb1f-89ac-4965-8e08-a6315e253be3",
   "metadata": {},
   "source": [
    "# PROGRAMMING ASSIGNMENT 2\n",
    "## LAGUNA, CARLVINZ E. \n",
    "### 2ECE-B\n",
    "### SEPTEMBER 3, 2025"
   ]
  },
  {
   "cell_type": "markdown",
   "id": "a2ab3c70-c6f5-438b-a81d-16ded2c7eff7",
   "metadata": {},
   "source": [
    "1. NORMALIZATION PROBLEM: Normalization is one of the most basic preprocessing techniques in\n",
    "data analytics. This involves centering and scaling process. Centering means subtracting the data from the\n",
    "mean and scaling means dividing with its standard deviation. Mathematically, normalization can be\n",
    "expressed as:\n",
    "\n",
    "    𝑍 = 𝑋 − 𝑥̅ / 𝜎\n",
    "\n",
    "    In Python, element-wise mean and element-wise standard deviation can be obtained by using .mean() and\n",
    "    .std() calls.\n",
    "\n",
    "    In this problem, create a random 5 x 5 ndarray and store it to variable X. Normalize X. Save your normalized\n",
    "    ndarray as **X_normalized.npy**"
   ]
  },
  {
   "cell_type": "code",
   "execution_count": 3,
   "id": "9fe8737c-1417-4cd6-9144-0eda4621717a",
   "metadata": {},
   "outputs": [
    {
     "name": "stdout",
     "output_type": "stream",
     "text": [
      "Original X:\n",
      " [[0.60047921 0.86820711 0.88491311 0.18954445 0.90453443]\n",
      " [0.67645823 0.34468817 0.33567531 0.44584136 0.20945855]\n",
      " [0.84224112 0.89349545 0.55048818 0.67381018 0.30297343]\n",
      " [0.5146586  0.95787808 0.63488591 0.99979578 0.12894773]\n",
      " [0.8391685  0.56148971 0.79566032 0.05292669 0.67717269]]\n",
      "\n",
      "Normalized X:\n",
      " [[ 0.01840392  0.99149141  1.05221126 -1.47518515  1.12352718]\n",
      " [ 0.2945583  -0.91129765 -0.94405591 -0.54364489 -1.40280509]\n",
      " [ 0.89711507  1.08340474 -0.16329415  0.28493368 -1.06291461]\n",
      " [-0.29352082  1.31741072  0.14345898  1.46976536 -1.69543079]\n",
      " [ 0.88594726 -0.12330785  0.72781183 -1.9717379   0.29715511]]\n"
     ]
    }
   ],
   "source": [
    "# Import numpy library as np\n",
    "import numpy as np\n",
    "\n",
    "# Create a random 5x5 ndarray with values between 0 and 1\n",
    "X = np.random.rand(5, 5)\n",
    "\n",
    "# Compute the mean of the array\n",
    "mean_X = X.mean()\n",
    "\n",
    "# Compute the standard deviation of the array\n",
    "std_X = X.std()\n",
    "\n",
    "# Normalize the array using the formula (X - mean) / std\n",
    "X_normalized = (X - mean_X) / std_X\n",
    "\n",
    "# Save the normalized array into a file named 'X_normalized.npy'\n",
    "np.save(\"X_normalized.npy\", X_normalized)\n",
    "\n",
    "# Display the original 5x5 matrix\n",
    "print(\"Original X:\\n\", X)\n",
    "\n",
    "# Display the normalized 5x5 matrix\n",
    "print(\"\\nNormalized X:\\n\", X_normalized)"
   ]
  },
  {
   "cell_type": "markdown",
   "id": "313b8e68-8ef2-4779-9440-b6c0c92fd9ed",
   "metadata": {},
   "source": [
    "2. DIVISIBLE BY 3 PROBLEM: Create the following 10 x 10 ndarray.\n",
    "\\\n",
    "A = \\begin{bmatrix}\n",
    "1 & 4 & \\cdots & 81 & 100 \\\\\n",
    "\\vdots & \\vdots & \\ddots & \\vdots & \\vdots \\\\\n",
    "\\vdots & \\vdots & \\ddots & \\vdots & \\vdots \\\\\n",
    "\\vdots & \\vdots & \\ddots & \\vdots & \\vdots \\\\\n",
    "8281 & 8464 & \\cdots & 9801 & 10000\n",
    "\\end{bmatrix}\n",
    "\n",
    "\n",
    "which are the squares of the first 100 positive integers.  \n",
    "\n",
    "From this ndarray, determine all the elements that are divisible by 3. Save the result as **div_by_3.npy**.\n"
   ]
  },
  {
   "cell_type": "code",
   "execution_count": 5,
   "id": "ed6900a1-7c86-4ac0-9367-98c8d87c293a",
   "metadata": {},
   "outputs": [
    {
     "name": "stdout",
     "output_type": "stream",
     "text": [
      "Matrix A (squares of first 100 positive integers):\n",
      " [[    1     4     9    16    25    36    49    64    81   100]\n",
      " [  121   144   169   196   225   256   289   324   361   400]\n",
      " [  441   484   529   576   625   676   729   784   841   900]\n",
      " [  961  1024  1089  1156  1225  1296  1369  1444  1521  1600]\n",
      " [ 1681  1764  1849  1936  2025  2116  2209  2304  2401  2500]\n",
      " [ 2601  2704  2809  2916  3025  3136  3249  3364  3481  3600]\n",
      " [ 3721  3844  3969  4096  4225  4356  4489  4624  4761  4900]\n",
      " [ 5041  5184  5329  5476  5625  5776  5929  6084  6241  6400]\n",
      " [ 6561  6724  6889  7056  7225  7396  7569  7744  7921  8100]\n",
      " [ 8281  8464  8649  8836  9025  9216  9409  9604  9801 10000]]\n",
      "\n",
      "Elements divisible by 3:\n",
      " [   9   36   81  144  225  324  441  576  729  900 1089 1296 1521 1764\n",
      " 2025 2304 2601 2916 3249 3600 3969 4356 4761 5184 5625 6084 6561 7056\n",
      " 7569 8100 8649 9216 9801]\n"
     ]
    }
   ],
   "source": [
    "# Import numpy library as np\n",
    "import numpy as np\n",
    "\n",
    "# Create an array of integers from 1 to 100\n",
    "numbers = np.arange(1, 101)\n",
    "\n",
    "# Square each integer to get the squares of the first 100 positive integers\n",
    "squares = numbers**2\n",
    "\n",
    "# Reshape the 1D array of 100 squares into a 10x10 matrix\n",
    "A = squares.reshape(10, 10)\n",
    "\n",
    "# Select all elements in A that are divisible by 3\n",
    "div_by_3 = A[A % 3 == 0]\n",
    "\n",
    "# Save the elements divisible by 3 into a file named 'div_by_3.npy'\n",
    "np.save(\"div_by_3.npy\", div_by_3)\n",
    "\n",
    "# Display the 10x10 matrix of squares\n",
    "print(\"Matrix A (squares of first 100 positive integers):\\n\", A)\n",
    "\n",
    "# Display only the elements that are divisible by 3\n",
    "print(\"\\nElements divisible by 3:\\n\", div_by_3)"
   ]
  }
 ],
 "metadata": {
  "kernelspec": {
   "display_name": "Python [conda env:anaconda3] *",
   "language": "python",
   "name": "conda-env-anaconda3-py"
  },
  "language_info": {
   "codemirror_mode": {
    "name": "ipython",
    "version": 3
   },
   "file_extension": ".py",
   "mimetype": "text/x-python",
   "name": "python",
   "nbconvert_exporter": "python",
   "pygments_lexer": "ipython3",
   "version": "3.13.5"
  }
 },
 "nbformat": 4,
 "nbformat_minor": 5
}
